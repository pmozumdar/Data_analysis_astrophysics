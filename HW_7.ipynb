{
 "cells": [
  {
   "cell_type": "markdown",
   "metadata": {},
   "source": [
    "# PHY 266 HW 7"
   ]
  },
  {
   "cell_type": "code",
   "execution_count": 1,
   "metadata": {},
   "outputs": [],
   "source": [
    "import numpy as np\n",
    "import scipy.stats as sp\n",
    "import matplotlib.pyplot as plt\n",
    "import glob\n",
    "import astropy.units as u\n",
    "\n",
    "from matplotlib.patches import Ellipse\n",
    "from math import pi\n",
    "from scipy.optimize import leastsq, least_squares, curve_fit\n",
    "from astropy.cosmology import Planck15 as cosmo\n",
    "from astropy.cosmology import FlatLambdaCDM \n"
   ]
  },
  {
   "cell_type": "markdown",
   "metadata": {},
   "source": [
    "## Prb 1. Confidence intervals\n",
    "\n",
    "### 1 a) "
   ]
  },
  {
   "cell_type": "code",
   "execution_count": 2,
   "metadata": {},
   "outputs": [],
   "source": [
    "data = np.loadtxt('../data/union-supernova-catalog.txt')\n",
    "z = data[:,0]\n",
    "DM = data[:,1]*u.mag\n",
    "sigma = data[:,2]\n",
    "n = len(z)"
   ]
  },
  {
   "cell_type": "code",
   "execution_count": 3,
   "metadata": {},
   "outputs": [],
   "source": [
    "num_H = 61    # number of points in the H axis of the grid\n",
    "num_Om = 60    # number of points in the Omega_m axis of the grid\n",
    "\n",
    "H_vals = np.linspace(60, 80, num_H)\n",
    "Om_vals = np.linspace(0.0,1.0,num_Om)"
   ]
  },
  {
   "cell_type": "code",
   "execution_count": 4,
   "metadata": {},
   "outputs": [],
   "source": [
    "log_L = np.zeros((num_H, num_Om))\n",
    "chi_2 = np.zeros((num_H, num_Om))\n",
    "\n",
    "for i, HO in enumerate(H_vals):\n",
    "    for j, Om in enumerate(Om_vals):\n",
    "        cosmo = FlatLambdaCDM(H0=HO * u.km / u.s / u.Mpc, Om0=Om)\n",
    "        #print(cosmo)\n",
    "        DM_model = cosmo.distmod(z)\n",
    "        #print(DM_model[20:30])\n",
    "        chi2 = np.sum(((DM - DM_model) / sigma).value**2)\n",
    "        #print(0.5*chi2)\n",
    "        log_L[i][j] = -0.5*chi2\n",
    "        chi_2[i][j] = chi2"
   ]
  },
  {
   "cell_type": "code",
   "execution_count": 5,
   "metadata": {},
   "outputs": [],
   "source": [
    "X,Y = np.meshgrid(Om_vals, H_vals)"
   ]
  },
  {
   "cell_type": "code",
   "execution_count": 6,
   "metadata": {},
   "outputs": [
    {
     "name": "stdout",
     "output_type": "stream",
     "text": [
      "minimum of chi^2 : 525.218248\n",
      "\n",
      "chi^2 value that enclose the 68.3% confidence region : 527.515948\n",
      "\n",
      "chi^2 value that enclose the 95.5% confidence region : 531.398348\n",
      "\n",
      "chi^2 value that enclose the 99.7% confidence region : 537.047248\n"
     ]
    }
   ],
   "source": [
    "print('minimum of chi^2 : %f' %chi_2.min())\n",
    "print('\\nchi^2 value that enclose the 68.3%% confidence region : %f' %(chi_2.min() + 2.2977))\n",
    "print('\\nchi^2 value that enclose the 95.5%% confidence region : %f' %(chi_2.min() + 6.1801))\n",
    "print('\\nchi^2 value that enclose the 99.7%% confidence region : %f' %(chi_2.min() + 11.829))"
   ]
  },
  {
   "cell_type": "code",
   "execution_count": 9,
   "metadata": {},
   "outputs": [
    {
     "data": {
      "text/plain": [
       "Text(0.5, 0, '$\\\\Omega_{m0}$')"
      ]
     },
     "execution_count": 9,
     "metadata": {},
     "output_type": "execute_result"
    },
    {
     "data": {
      "image/png": "[encoded data removed]",
      "text/plain": [
       "<Figure size 432x360 with 2 Axes>"
      ]
     },
     "metadata": {
      "needs_background": "light"
     },
     "output_type": "display_data"
    }
   ],
   "source": [
    "#plt.contour(X,Y,log_L,20)\n",
    "#plt.contour(X,Y,chi_2,20)\n",
    "plt.figure(figsize=(6,5))\n",
    "plt.contour(X,Y,chi_2, [chi_2.min() + 2.2977,  chi_2.min() + 6.1801, chi_2.min() + 11.829])\n",
    "plt.colorbar()\n",
    "plt.ylabel(r'$H_0$', fontdict={'fontsize':18})\n",
    "plt.xlabel(r'$\\Omega_{m0}$', fontdict={'fontsize':18})"
   ]
  },
  {
   "cell_type": "markdown",
   "metadata": {},
   "source": [
    "### 1 b) That would be misleading because by fixing $H_o$ we may miss those values of $\\Omega_m$ which may also result in a $\\chi^2$ value within the desired range of minimum $\\chi^2$ for other $H_o$ values. As a reult we will underestimate the uncertainty. "
   ]
  },
  {
   "cell_type": "markdown",
   "metadata": {},
   "source": [
    "## Prb 2. Least-squares fitters: bakeoff\n",
    "\n",
    "### 2a)"
   ]
  },
  {
   "cell_type": "code",
   "execution_count": 10,
   "metadata": {},
   "outputs": [],
   "source": [
    "def residual_func(guess):\n",
    "    HO = guess[0]\n",
    "    Om = guess[1]\n",
    "    cosmo = FlatLambdaCDM(H0=HO * u.km / u.s / u.Mpc, Om0=Om)\n",
    "    #print(cosmo)\n",
    "    DM_model = cosmo.distmod(z)\n",
    "    #print(DM_model[20:30])\n",
    "    residual = ((DM - DM_model) / sigma).value\n",
    "    #chi2 = np.sum(((DM - DM_model) / sigma).value**2)\n",
    "    \n",
    "    return residual"
   ]
  },
  {
   "cell_type": "code",
   "execution_count": 11,
   "metadata": {},
   "outputs": [],
   "source": [
    "ml_val, cov, infodict, msg, ler = leastsq(residual_func, [72, 0.3], full_output=True)"
   ]
  },
  {
   "cell_type": "code",
   "execution_count": 12,
   "metadata": {},
   "outputs": [
    {
     "name": "stdout",
     "output_type": "stream",
     "text": [
      "maximum likelihood values and 1-sigma uncertainty:\n",
      "\n",
      "HO : 70.012882   1-sigma uncertainty : 0.357576\n",
      "\n",
      "Om : 0.270262   1-sigma uncertainty : 0.020472\n"
     ]
    }
   ],
   "source": [
    "print('maximum likelihood values and 1-sigma uncertainty:')\n",
    "print('\\nHO : %f   1-sigma uncertainty : %f' %(ml_val[0], np.sqrt(cov[0][0])))\n",
    "print('\\nOm : %f   1-sigma uncertainty : %f' %(ml_val[1], np.sqrt(cov[1][1])))"
   ]
  },
  {
   "cell_type": "markdown",
   "metadata": {},
   "source": [
    "### 2 b)"
   ]
  },
  {
   "cell_type": "code",
   "execution_count": 13,
   "metadata": {},
   "outputs": [],
   "source": [
    "result = least_squares(residual_func,  [72, 0.3])"
   ]
  },
  {
   "cell_type": "code",
   "execution_count": 14,
   "metadata": {},
   "outputs": [],
   "source": [
    "J = result['jac']\n",
    "cov_1 = np.linalg.inv(np.matmul(J.T, J))"
   ]
  },
  {
   "cell_type": "code",
   "execution_count": 15,
   "metadata": {},
   "outputs": [
    {
     "name": "stdout",
     "output_type": "stream",
     "text": [
      "maximum likelihood values and 1-sigma uncertainty:\n",
      "\n",
      "HO : 70.012885   1-sigma uncertainty : 0.357572\n",
      "\n",
      "Om : 0.270261   1-sigma uncertainty : 0.020471\n"
     ]
    }
   ],
   "source": [
    "print('maximum likelihood values and 1-sigma uncertainty:')\n",
    "print('\\nHO : %f   1-sigma uncertainty : %f' %(result['x'][0], np.sqrt(cov_1[0][0])))\n",
    "print('\\nOm : %f   1-sigma uncertainty : %f' %(result['x'][1], np.sqrt(cov_1[1][1])))"
   ]
  },
  {
   "cell_type": "markdown",
   "metadata": {},
   "source": [
    "### 2 c)"
   ]
  },
  {
   "cell_type": "code",
   "execution_count": 16,
   "metadata": {},
   "outputs": [],
   "source": [
    "def mod_func(z, HO, Om):\n",
    "    \n",
    "    cosmo = FlatLambdaCDM(H0=HO * u.km / u.s / u.Mpc, Om0=Om)\n",
    "    #print(cosmo)\n",
    "    DM_model = cosmo.distmod(z)\n",
    "    \n",
    "    return DM_model.value"
   ]
  },
  {
   "cell_type": "code",
   "execution_count": 17,
   "metadata": {},
   "outputs": [],
   "source": [
    "popt, pcov = curve_fit(mod_func, z, DM.value, p0=[72, .3], sigma=sigma, absolute_sigma=True)"
   ]
  },
  {
   "cell_type": "code",
   "execution_count": 18,
   "metadata": {},
   "outputs": [
    {
     "name": "stdout",
     "output_type": "stream",
     "text": [
      "maximum likelihood values and 1-sigma uncertainty:\n",
      "\n",
      "HO : 70.012887   1-sigma uncertainty : 0.357579\n",
      "\n",
      "Om : 0.270261   1-sigma uncertainty : 0.020472\n"
     ]
    }
   ],
   "source": [
    "print('maximum likelihood values and 1-sigma uncertainty:')\n",
    "print('\\nHO : %f   1-sigma uncertainty : %f' %(popt[0], np.sqrt(pcov[0][0])))\n",
    "print('\\nOm : %f   1-sigma uncertainty : %f' %(popt[1], np.sqrt(pcov[1][1])))"
   ]
  },
  {
   "cell_type": "markdown",
   "metadata": {},
   "source": [
    "### 2 d)"
   ]
  },
  {
   "cell_type": "code",
   "execution_count": 27,
   "metadata": {},
   "outputs": [],
   "source": [
    "mean_x = popt[1]\n",
    "mean_y = popt[0]\n",
    "\n",
    "major_axis = np.sqrt(0.5*(pcov[0][0] + pcov[1][1] + \n",
    "                                 np.sqrt((pcov[1][1] - pcov[0][0])**2 + 4*pcov[0][1]**2)))\n",
    "minor_axis = np.sqrt(0.5*(pcov[0][0] + pcov[1][1] - \n",
    "                                 np.sqrt((pcov[1][1] - pcov[0][0])**2 + 4*pcov[0][1]**2)))\n",
    "angle = np.degrees(0.5*np.arctan2(2*pcov[0][1], pcov[1][1]-pcov[0][0]))\n",
    "                  \n",
    "myellipse = Ellipse(xy=[mean_x, mean_y], width=2*1.52*major_axis, height=2*1.52*minor_axis, \n",
    "                    angle=angle, fill=False)"
   ]
  },
  {
   "cell_type": "code",
   "execution_count": 28,
   "metadata": {},
   "outputs": [
    {
     "data": {
      "text/plain": [
       "<matplotlib.patches.Ellipse at 0x7faed4cd7110>"
      ]
     },
     "execution_count": 28,
     "metadata": {},
     "output_type": "execute_result"
    },
    {
     "data": {
      "image/png": "[encoded data removed]",
      "text/plain": [
       "<Figure size 432x360 with 1 Axes>"
      ]
     },
     "metadata": {
      "needs_background": "light"
     },
     "output_type": "display_data"
    }
   ],
   "source": [
    "f = plt.figure(figsize=(6,5))\n",
    "ax = f.add_subplot(111)\n",
    "#ax.scatter(, Y, s=2)\n",
    "ax.set_ylim(60, 80)\n",
    "ax.set_xlabel(r'$\\Omega_{m0}$', fontdict={'fontsize':14})\n",
    "ax.set_ylabel(r'$H_0$', fontdict={'fontsize':14})\n",
    "ax.add_artist(myellipse)\n",
    "#plt.grid(True, which='both')"
   ]
  },
  {
   "cell_type": "markdown",
   "metadata": {},
   "source": [
    "### It seems the 68.3% CI  ellipse matches with the one in peoblem 1."
   ]
  },
  {
   "cell_type": "markdown",
   "metadata": {},
   "source": [
    "### 2 e)"
   ]
  },
  {
   "cell_type": "markdown",
   "metadata": {},
   "source": [
    "### Yes, the errorbars on the supernovae are believable. In problem 1 we have calculated the 68.3% confidance interval using the $\\Delta \\chi^2$ method. If the errorbars where not valid then they would not have lead to a covariance matrix using which we can also reach to same confidence interval."
   ]
  },
  {
   "cell_type": "markdown",
   "metadata": {},
   "source": [
    "### 2 f)"
   ]
  },
  {
   "cell_type": "markdown",
   "metadata": {},
   "source": [
    "### The optimizer approach is generally faster than the grid approach. The optimizer approach may become slower if it gets stuck in some local maxima. The covariance matrix provided in optimizer approach may not be relaiable to calculate confidence interval if the error estimates were not good. On the other hand using $\\Delta \\chi^2$ method in grid approach we can get relaiable joint confidence interval for the parameters."
   ]
  },
  {
   "cell_type": "markdown",
   "metadata": {},
   "source": [
    "## Prb 3. Fisher matix\n",
    "\n",
    "### 3 a) The Fisher matrix $F$ assuming Gaussian uncertainty and a model f(x) with parameters $a_l$ is defined as $F_{jk} = \\sum_i \\frac{1}{\\sigma_i^2}\\frac{\\partial f(x_i)}{\\partial a_j}\\frac{\\partial f(x_i)}{\\partial a_k} $. For the given linear model $y=ax+b$, the Fisher matrix is then \n",
    "$\\begin{vmatrix}\n",
    "\\sum_i \\frac{x_i^2}{\\sigma_i^2}  &  \\sum_i \\frac{x_i}{\\sigma_i^2} \\\\\n",
    "\\sum_i \\frac{x_i}{\\sigma_i^2}    &  \\sum_i  \\frac{1}{\\sigma_i^2}  \\\\\n",
    "\\end{vmatrix}$\n"
   ]
  },
  {
   "cell_type": "markdown",
   "metadata": {},
   "source": [
    "### 3 b) "
   ]
  },
  {
   "cell_type": "code",
   "execution_count": 29,
   "metadata": {},
   "outputs": [],
   "source": [
    "def inv_fisher_matrix(obsrv_points, sigma):\n",
    "    \"\"\"\n",
    "    This function computes the fisher matrix and returns the\n",
    "    inverse of the matrix for a two\n",
    "    parameter linear model given the array of observation\n",
    "    points and associated uncertainties. \n",
    "    \"\"\"\n",
    "    \n",
    "    fisher_mat = np.array([[np.sum(obsrv_points**2 / sigma), np.sum(obsrv_points / sigma)],\n",
    "                          [np.sum(obsrv_points / sigma), np.sum(1 / sigma)]])\n",
    "    print('Fisher matrix:\\n')\n",
    "    print(fisher_mat)\n",
    "    \n",
    "    inv_fisher_mat = np.linalg.inv(fisher_mat)\n",
    "    \n",
    "    print('\\nInverse of Fisher matrix:\\n')\n",
    "    print(inv_fisher_mat)\n",
    "    \n",
    "    return inv_fisher_mat"
   ]
  },
  {
   "cell_type": "code",
   "execution_count": 30,
   "metadata": {},
   "outputs": [],
   "source": [
    "obsrv_points = np.linspace(-1, 1, 20)\n",
    "sigma = np.ones(obsrv_points.shape) * 0.01"
   ]
  },
  {
   "cell_type": "code",
   "execution_count": 31,
   "metadata": {},
   "outputs": [
    {
     "name": "stdout",
     "output_type": "stream",
     "text": [
      "Fisher matrix:\n",
      "\n",
      "[[ 7.36842105e+02 -1.70530257e-13]\n",
      " [-1.70530257e-13  2.00000000e+03]]\n",
      "\n",
      "Inverse of Fisher matrix:\n",
      "\n",
      "[[1.35714286e-03 1.15716960e-19]\n",
      " [1.15716960e-19 5.00000000e-04]]\n"
     ]
    }
   ],
   "source": [
    "a = inv_fisher_matrix(obsrv_points, sigma)"
   ]
  },
  {
   "cell_type": "markdown",
   "metadata": {},
   "source": [
    "### 3 c) I need to invent only x values or where the observation will take place. As the Fisher matrix elements depends on the derivative of y with respect to model parameters only inventing x values will suffice to calculate Fisher matrix elements."
   ]
  },
  {
   "cell_type": "markdown",
   "metadata": {},
   "source": [
    "### 3 d) Minimizing covariance"
   ]
  },
  {
   "cell_type": "code",
   "execution_count": 32,
   "metadata": {},
   "outputs": [
    {
     "name": "stdout",
     "output_type": "stream",
     "text": [
      "Fisher matrix:\n",
      "\n",
      "[[6.80134680e+01 1.64313008e-14]\n",
      " [1.64313008e-14 2.00000000e+02]]\n",
      "\n",
      "Inverse of Fisher matrix:\n",
      "\n",
      "[[ 1.47029703e-02 -1.20794464e-18]\n",
      " [-1.20794464e-18  5.00000000e-03]]\n"
     ]
    }
   ],
   "source": [
    "obsrv_points1 = np.linspace(-1.0, 1.0, 100)\n",
    "sigma1 = np.ones(obsrv_points1.shape) * 0.5\n",
    "\n",
    "min_cov = inv_fisher_matrix(obsrv_points1, sigma1)"
   ]
  },
  {
   "cell_type": "markdown",
   "metadata": {},
   "source": [
    "### Maximizing covariance"
   ]
  },
  {
   "cell_type": "code",
   "execution_count": 34,
   "metadata": {},
   "outputs": [
    {
     "name": "stdout",
     "output_type": "stream",
     "text": [
      "Fisher matrix:\n",
      "\n",
      "[[ 335.01683502  500.        ]\n",
      " [ 500.         1000.        ]]\n",
      "\n",
      "Inverse of Fisher matrix:\n",
      "\n",
      "[[ 0.01176238 -0.00588119]\n",
      " [-0.00588119  0.00394059]]\n"
     ]
    }
   ],
   "source": [
    "obsrv_points2 = np.linspace(0.0, 1.0, 100)\n",
    "sigma2 = np.ones(obsrv_points2.shape) * 0.1\n",
    "\n",
    "max_cov = inv_fisher_matrix(obsrv_points2, sigma2)"
   ]
  },
  {
   "cell_type": "markdown",
   "metadata": {},
   "source": [
    "### We could choose our observation points in such a way that it would minimize the covariance between parameters. "
   ]
  },
  {
   "cell_type": "code",
   "execution_count": null,
   "metadata": {},
   "outputs": [],
   "source": []
  }
 ],
 "metadata": {
  "kernelspec": {
   "display_name": "Python 3",
   "language": "python",
   "name": "python3"
  },
  "language_info": {
   "codemirror_mode": {
    "name": "ipython",
    "version": 3
   },
   "file_extension": ".py",
   "mimetype": "text/x-python",
   "name": "python",
   "nbconvert_exporter": "python",
   "pygments_lexer": "ipython3",
   "version": "3.7.4"
  }
 },
 "nbformat": 4,
 "nbformat_minor": 4
}
