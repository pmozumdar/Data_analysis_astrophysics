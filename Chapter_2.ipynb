{
 "cells": [
  {
   "cell_type": "code",
   "execution_count": 1,
   "metadata": {},
   "outputs": [],
   "source": [
    "import numpy as np\n",
    "import matplotlib.pyplot as plt"
   ]
  },
  {
   "cell_type": "code",
   "execution_count": 61,
   "metadata": {},
   "outputs": [],
   "source": [
    "np.random.seed(12345)\n",
    "x = np.random.uniform(0, 100, size=30000)"
   ]
  },
  {
   "cell_type": "code",
   "execution_count": 62,
   "metadata": {},
   "outputs": [
    {
     "data": {
      "text/plain": [
       "(array([2949., 1258., 1010.,  839.,  697.,  643.,  562.,  524.,  514.,\n",
       "         489.,  443.,  450.,  425.,  393.,  412.,  424.,  370.,  359.,\n",
       "         362.,  303.,  334.,  335.,  281.,  292.,  296.,  317.,  294.,\n",
       "         253.,  283.,  256.,  260.,  292.,  261.,  249.,  223.,  274.,\n",
       "         235.,  240.,  260.,  243.,  230.,  194.,  227.,  276.,  205.,\n",
       "         251.,  220.,  220.,  219.,  206.,  221.,  195.,  222.,  189.,\n",
       "         214.,  192.,  186.,  175.,  199.,  209.,  204.,  187.,  197.,\n",
       "         174.,  194.,  176.,  195.,  184.,  161.,  176.,  178.,  178.,\n",
       "         152.,  163.,  178.,  162.,  187.,  181.,  172.,  171.,  146.,\n",
       "         199.,  159.,  153.,  184.,  162.,  170.,  171.,  160.,  189.,\n",
       "         175.,  154.,  151.,  156.,  149.,  155.,  178.,  162.,  161.,\n",
       "         142.]),\n",
       " array([1.95394951e-05, 9.99986992e+01, 1.99997379e+02, 2.99996058e+02,\n",
       "        3.99994738e+02, 4.99993418e+02, 5.99992097e+02, 6.99990777e+02,\n",
       "        7.99989457e+02, 8.99988136e+02, 9.99986816e+02, 1.09998550e+03,\n",
       "        1.19998418e+03, 1.29998285e+03, 1.39998153e+03, 1.49998021e+03,\n",
       "        1.59997889e+03, 1.69997757e+03, 1.79997625e+03, 1.89997493e+03,\n",
       "        1.99997361e+03, 2.09997229e+03, 2.19997097e+03, 2.29996965e+03,\n",
       "        2.39996833e+03, 2.49996701e+03, 2.59996569e+03, 2.69996437e+03,\n",
       "        2.79996305e+03, 2.89996173e+03, 2.99996041e+03, 3.09995909e+03,\n",
       "        3.19995777e+03, 3.29995645e+03, 3.39995513e+03, 3.49995381e+03,\n",
       "        3.59995249e+03, 3.69995117e+03, 3.79994985e+03, 3.89994853e+03,\n",
       "        3.99994720e+03, 4.09994588e+03, 4.19994456e+03, 4.29994324e+03,\n",
       "        4.39994192e+03, 4.49994060e+03, 4.59993928e+03, 4.69993796e+03,\n",
       "        4.79993664e+03, 4.89993532e+03, 4.99993400e+03, 5.09993268e+03,\n",
       "        5.19993136e+03, 5.29993004e+03, 5.39992872e+03, 5.49992740e+03,\n",
       "        5.59992608e+03, 5.69992476e+03, 5.79992344e+03, 5.89992212e+03,\n",
       "        5.99992080e+03, 6.09991948e+03, 6.19991816e+03, 6.29991684e+03,\n",
       "        6.39991552e+03, 6.49991420e+03, 6.59991287e+03, 6.69991155e+03,\n",
       "        6.79991023e+03, 6.89990891e+03, 6.99990759e+03, 7.09990627e+03,\n",
       "        7.19990495e+03, 7.29990363e+03, 7.39990231e+03, 7.49990099e+03,\n",
       "        7.59989967e+03, 7.69989835e+03, 7.79989703e+03, 7.89989571e+03,\n",
       "        7.99989439e+03, 8.09989307e+03, 8.19989175e+03, 8.29989043e+03,\n",
       "        8.39988911e+03, 8.49988779e+03, 8.59988647e+03, 8.69988515e+03,\n",
       "        8.79988383e+03, 8.89988251e+03, 8.99988119e+03, 9.09987987e+03,\n",
       "        9.19987855e+03, 9.29987722e+03, 9.39987590e+03, 9.49987458e+03,\n",
       "        9.59987326e+03, 9.69987194e+03, 9.79987062e+03, 9.89986930e+03,\n",
       "        9.99986798e+03]),\n",
       " <a list of 100 Patch objects>)"
      ]
     },
     "execution_count": 62,
     "metadata": {},
     "output_type": "execute_result"
    },
    {
     "data": {
      "image/png": "[encoded data removed]",
      "text/plain": [
       "<Figure size 432x288 with 1 Axes>"
      ]
     },
     "metadata": {
      "needs_background": "light"
     },
     "output_type": "display_data"
    }
   ],
   "source": [
    "plt.hist(x**2, bins=100)"
   ]
  },
  {
   "cell_type": "code",
   "execution_count": 41,
   "metadata": {},
   "outputs": [
    {
     "data": {
      "text/plain": [
       "(array([1.00005081, 0.85504344, 0.97504954, 0.93004725, 1.06505411,\n",
       "        0.98004979, 1.01005132, 1.01005132, 0.84004268, 1.02505208,\n",
       "        1.01505157, 0.94004776, 1.12505716, 1.08005487, 1.10505614,\n",
       "        1.02005182, 1.05005335, 1.04505309, 1.07005436, 1.05005335,\n",
       "        1.03005233, 0.99505055, 1.09505563, 0.98505004, 0.87504446,\n",
       "        0.84504293, 1.01505157, 1.02005182, 0.97004928, 0.95004827,\n",
       "        0.97004928, 0.97504954, 1.05005335, 1.00505106, 0.99505055,\n",
       "        0.98505004, 0.94504801, 1.06505411, 1.02505208, 1.02005182,\n",
       "        0.92004674, 0.97004928, 1.08005487, 0.97504954, 0.88004471,\n",
       "        0.94504801, 1.06005386, 0.90504598, 0.9900503 , 1.04505309,\n",
       "        1.04505309, 0.98004979, 0.8700442 , 0.95004827, 1.01005132,\n",
       "        0.98505004, 1.08005487, 0.90004573, 0.89504547, 1.07005436,\n",
       "        0.91504649, 1.03005233, 1.1100564 , 0.98505004, 0.90504598,\n",
       "        1.09005538, 0.98004979, 1.00005081, 1.01005132, 1.06005386,\n",
       "        1.03505259, 0.9350475 , 1.0550536 , 1.00005081, 0.925047  ,\n",
       "        1.00005081, 0.97004928, 1.14005792, 0.9350475 , 0.96504903,\n",
       "        1.01005132, 1.02005182, 1.00505106, 1.04505309, 0.89504547,\n",
       "        0.96004877, 0.99505055, 1.09505563, 1.01005132, 0.91004623,\n",
       "        1.03505259, 1.01505157, 1.01505157, 1.06005386, 1.18005995,\n",
       "        1.01005132, 1.01505157, 0.9900503 , 1.11505665, 1.01505157]),\n",
       " array([4.42035011e-05, 1.00436955e-02, 2.00431874e-02, 3.00426794e-02,\n",
       "        4.00421713e-02, 5.00416633e-02, 6.00411552e-02, 7.00406472e-02,\n",
       "        8.00401391e-02, 9.00396311e-02, 1.00039123e-01, 1.10038615e-01,\n",
       "        1.20038107e-01, 1.30037599e-01, 1.40037091e-01, 1.50036583e-01,\n",
       "        1.60036075e-01, 1.70035567e-01, 1.80035059e-01, 1.90034551e-01,\n",
       "        2.00034043e-01, 2.10033535e-01, 2.20033027e-01, 2.30032518e-01,\n",
       "        2.40032010e-01, 2.50031502e-01, 2.60030994e-01, 2.70030486e-01,\n",
       "        2.80029978e-01, 2.90029470e-01, 3.00028962e-01, 3.10028454e-01,\n",
       "        3.20027946e-01, 3.30027438e-01, 3.40026930e-01, 3.50026422e-01,\n",
       "        3.60025914e-01, 3.70025406e-01, 3.80024898e-01, 3.90024390e-01,\n",
       "        4.00023882e-01, 4.10023374e-01, 4.20022866e-01, 4.30022358e-01,\n",
       "        4.40021850e-01, 4.50021342e-01, 4.60020833e-01, 4.70020325e-01,\n",
       "        4.80019817e-01, 4.90019309e-01, 5.00018801e-01, 5.10018293e-01,\n",
       "        5.20017785e-01, 5.30017277e-01, 5.40016769e-01, 5.50016261e-01,\n",
       "        5.60015753e-01, 5.70015245e-01, 5.80014737e-01, 5.90014229e-01,\n",
       "        6.00013721e-01, 6.10013213e-01, 6.20012705e-01, 6.30012197e-01,\n",
       "        6.40011689e-01, 6.50011181e-01, 6.60010673e-01, 6.70010165e-01,\n",
       "        6.80009657e-01, 6.90009148e-01, 7.00008640e-01, 7.10008132e-01,\n",
       "        7.20007624e-01, 7.30007116e-01, 7.40006608e-01, 7.50006100e-01,\n",
       "        7.60005592e-01, 7.70005084e-01, 7.80004576e-01, 7.90004068e-01,\n",
       "        8.00003560e-01, 8.10003052e-01, 8.20002544e-01, 8.30002036e-01,\n",
       "        8.40001528e-01, 8.50001020e-01, 8.60000512e-01, 8.70000004e-01,\n",
       "        8.79999496e-01, 8.89998988e-01, 8.99998480e-01, 9.09997971e-01,\n",
       "        9.19997463e-01, 9.29996955e-01, 9.39996447e-01, 9.49995939e-01,\n",
       "        9.59995431e-01, 9.69994923e-01, 9.79994415e-01, 9.89993907e-01,\n",
       "        9.99993399e-01]),\n",
       " <a list of 100 Patch objects>)"
      ]
     },
     "execution_count": 41,
     "metadata": {},
     "output_type": "execute_result"
    },
    {
     "data": {
      "image/png": "[encoded data removed]",
      "text/plain": [
       "<Figure size 432x288 with 1 Axes>"
      ]
     },
     "metadata": {
      "needs_background": "light"
     },
     "output_type": "display_data"
    }
   ],
   "source": [
    "plt.hist(x, bins=100, density=True)"
   ]
  },
  {
   "cell_type": "code",
   "execution_count": null,
   "metadata": {},
   "outputs": [],
   "source": []
  }
 ],
 "metadata": {
  "kernelspec": {
   "display_name": "Python 3",
   "language": "python",
   "name": "python3"
  },
  "language_info": {
   "codemirror_mode": {
    "name": "ipython",
    "version": 3
   },
   "file_extension": ".py",
   "mimetype": "text/x-python",
   "name": "python",
   "nbconvert_exporter": "python",
   "pygments_lexer": "ipython3",
   "version": "3.7.4"
  }
 },
 "nbformat": 4,
 "nbformat_minor": 4
}
