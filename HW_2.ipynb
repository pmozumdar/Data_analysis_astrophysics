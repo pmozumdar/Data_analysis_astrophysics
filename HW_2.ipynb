{
 "cells": [
  {
   "cell_type": "markdown",
   "metadata": {},
   "source": [
    "# PHY 266 HW 2"
   ]
  },
  {
   "cell_type": "code",
   "execution_count": 1,
   "metadata": {},
   "outputs": [],
   "source": [
    "import numpy as np\n",
    "import scipy.stats as sp\n",
    "import matplotlib.pyplot as plt"
   ]
  },
  {
   "cell_type": "markdown",
   "metadata": {},
   "source": [
    "## Prb 1. Random coordinates on a sphere\n",
    "\n",
    "### 1 a) As the object is randomly distributed that means the probabilty of detecting it any where in the sky is same. So we can expect an uniform distribution of $\\alpha$ ranging from 0-360 degree or U(0, 360).\n",
    "\n",
    "\n",
    "### 1 b) Similarly the distribution of $\\delta$ is also an uniform distribution and ranging from -90 to 90 or U(-90, 90).  Now the CDF of $\\delta$ is $F(\\delta)= \\int_{-\\infty}^{\\delta} f(\\delta')d\\delta'$. The PDF of $\\delta$ is $f(\\delta) = \\frac{1}{b-a} = \\frac{1}{180}$ when the PDF is uniform distribution of U(a,b). Then \n",
    "$$ \n",
    "\\begin{align}\n",
    "F(\\delta) &= \\int_{-\\infty}^{\\delta} \\frac{1}{180}d\\delta' \\\\ \n",
    "          &= \\frac{1}{180} \\int_{-90}^{\\delta} d\\delta' \\\\\n",
    "          &= \\frac{\\delta+90}{180}\n",
    "\\end{align}$$"
   ]
  },
  {
   "cell_type": "markdown",
   "metadata": {},
   "source": [
    "### 1 c) We have the equation for CDF of $\\delta$. Then we can draw samples from U(0,1) which will be treated as F($\\delta$) values and using the equation above we can find out the corresponding values of $\\delta$.\n",
    "\n",
    "### Similarly we can derive the CDF of $\\alpha$ and use the above mentioned procedure to convert samples drawn from U(0,1) to the values of $\\alpha$. The CDF of $\\alpha$ is                                                                       $$ \\begin{align}\n",
    "F(\\alpha) &= \\int_{-\\infty}^{\\alpha} \\frac{1}{360}d\\alpha' \\\\ \n",
    "&= \\frac{1}{360} \\int_{0}^{\\alpha} d\\alpha' \\\\     \n",
    "&= \\frac{\\alpha}{360} \n",
    "\\end{align}$$"
   ]
  },
  {
   "cell_type": "code",
   "execution_count": 37,
   "metadata": {},
   "outputs": [],
   "source": [
    "cdf_val = np.random.uniform(0, 1, size=10000)\n",
    "\n",
    "dec = 180.0 * cdf_val - 90.0\n",
    "ra = cdf_val * 360.0"
   ]
  },
  {
   "cell_type": "markdown",
   "metadata": {},
   "source": [
    "### 1 d) plot to check that the derived values for right ascension  and declination above are indeed uniformly distributed over their respective range."
   ]
  },
  {
   "cell_type": "code",
   "execution_count": 42,
   "metadata": {},
   "outputs": [
    {
     "data": {
      "text/plain": [
       "Text(0.5, 0, '$\\\\alpha$ values')"
      ]
     },
     "execution_count": 42,
     "metadata": {},
     "output_type": "execute_result"
    },
    {
     "data": {
      "image/png": "[encoded data removed]",
      "text/plain": [
       "<Figure size 432x288 with 1 Axes>"
      ]
     },
     "metadata": {
      "needs_background": "light"
     },
     "output_type": "display_data"
    },
    {
     "data": {
      "image/png": "[encoded data removed]",
      "text/plain": [
       "<Figure size 432x288 with 1 Axes>"
      ]
     },
     "metadata": {
      "needs_background": "light"
     },
     "output_type": "display_data"
    }
   ],
   "source": [
    "plt.hist(dec, bins=30)\n",
    "plt.xlabel(r'$\\delta$ values', fontdict={'fontsize':18})\n",
    "plt.xlim(-100,100)\n",
    "plt.figure()\n",
    "plt.hist(ra, bins=30)\n",
    "plt.xlabel(r'$\\alpha$ values', fontdict={'fontsize':18})"
   ]
  },
  {
   "cell_type": "markdown",
   "metadata": {},
   "source": [
    "## Prb 2. Expected values\n",
    "\n",
    "### 2 a)"
   ]
  },
  {
   "cell_type": "code",
   "execution_count": 16,
   "metadata": {},
   "outputs": [],
   "source": [
    "np.random.seed(12345)\n",
    "x = np.random.uniform(-0.5, 0.5, size=100000)\n",
    "y = np.random.uniform(-0.5, 0.5, size=100000)"
   ]
  },
  {
   "cell_type": "code",
   "execution_count": 17,
   "metadata": {},
   "outputs": [
    {
     "data": {
      "text/plain": [
       "(array([0.01758168, 0.0653034 , 0.10322961, 0.14391865, 0.18234719,\n",
       "        0.24036675, 0.26774394, 0.28959546, 0.33179151, 0.38152256,\n",
       "        0.41417426, 0.45687264, 0.50760835, 0.5490509 , 0.55859524,\n",
       "        0.60330295, 0.66333185, 0.70728606, 0.71657924, 0.77359413,\n",
       "        0.80398533, 0.85572571, 0.91399644, 0.92831295, 1.01546788,\n",
       "        0.98959768, 0.96548566, 0.88862858, 0.86326072, 0.80398533,\n",
       "        0.77560346, 0.74470993, 0.69949989, 0.67865303, 0.63042898,\n",
       "        0.5824561 , 0.52669704, 0.51012002, 0.49630584, 0.41316959,\n",
       "        0.36871305, 0.33932652, 0.29436764, 0.26799511, 0.23182707,\n",
       "        0.17908202, 0.1647655 , 0.11704379, 0.06781507, 0.02587019]),\n",
       " array([-0.9986376 , -0.95882344, -0.91900928, -0.87919512, -0.83938096,\n",
       "        -0.7995668 , -0.75975264, -0.71993848, -0.68012432, -0.64031016,\n",
       "        -0.600496  , -0.56068184, -0.52086769, -0.48105353, -0.44123937,\n",
       "        -0.40142521, -0.36161105, -0.32179689, -0.28198273, -0.24216857,\n",
       "        -0.20235441, -0.16254025, -0.12272609, -0.08291193, -0.04309777,\n",
       "        -0.00328361,  0.03653055,  0.07634471,  0.11615887,  0.15597303,\n",
       "         0.19578719,  0.23560135,  0.2754155 ,  0.31522966,  0.35504382,\n",
       "         0.39485798,  0.43467214,  0.4744863 ,  0.51430046,  0.55411462,\n",
       "         0.59392878,  0.63374294,  0.6735571 ,  0.71337126,  0.75318542,\n",
       "         0.79299958,  0.83281374,  0.8726279 ,  0.91244206,  0.95225622,\n",
       "         0.99207038]),\n",
       " <a list of 50 Patch objects>)"
      ]
     },
     "execution_count": 17,
     "metadata": {},
     "output_type": "execute_result"
    },
    {
     "data": {
      "image/png": "[encoded data removed]",
      "text/plain": [
       "<Figure size 432x288 with 1 Axes>"
      ]
     },
     "metadata": {
      "needs_background": "light"
     },
     "output_type": "display_data"
    }
   ],
   "source": [
    "plt.hist(x+y, bins=50, density=True)"
   ]
  },
  {
   "cell_type": "markdown",
   "metadata": {},
   "source": [
    "## Prb 4. Magnitudes: a common transformation\n",
    "\n",
    "### 4 a)  We can calculate the magnitude of the galaxy using the following equation \n",
    "$$ m_{g} = m_{\\ast} - 2.5\\log \\frac{f_g}{f_{\\ast}} $$\n",
    "### where $m_{g}$ is the magnitude of the galaxy, $m_{\\ast}$ is the magnitude of the star, $f_g$  and $f_{\\ast}$ are the pixel value of the galaxy and star respectively. As the flux is a linear measure of the pixel value then the ratio of the pixel values can be used as the ratio of the flux."
   ]
  },
  {
   "cell_type": "markdown",
   "metadata": {},
   "source": [
    "### 4 b) If we double the exposure time then the pixel values of both the galaxy and star would get doubled. As we are working with their ratio then we don't need to add any dependence on exposure time."
   ]
  },
  {
   "cell_type": "markdown",
   "metadata": {},
   "source": [
    "### 4 c) We can start with the fact that $\\frac{d\\log x}{dx} = \\frac{1}{x}$. Then \n",
    "$$\\begin{align} \n",
    "\\int d(\\log x) &= \\int \\frac{dx}{x} \\\\\n",
    "         \\log x &= \\int \\frac{dx}{x} \\\\\n",
    " \\end{align}$$ \n",
    "### Now $\\frac{dx}{x}$ is a dimensionless ratio. So we can say that logarithm of any quantity x can be expressed as the sum of some dimensionless ratios or numbers. Or logarithm of anything is dimensionless."
   ]
  },
  {
   "cell_type": "markdown",
   "metadata": {},
   "source": [
    "### 4 d) The uncertainty on magnitude of galaxy $\\sigma_{mg}$ is related to other variable in the following way $$\\begin{align}\n",
    "\\sigma_{m_g}^2 &= |\\frac{\\partial m_{g}}{\\partial f_g} |^2 \\sigma_{f_g}^2 \\\\\n",
    "         &= (-2.5\\frac{1}{f_g})^2 \\sigma_{f_g}^2 \\\\\n",
    " \\sigma_{m_g} &= \\pm 2.5 \\frac{\\sigma_{f_g}}{f_g}\n",
    "\\end{align}$$"
   ]
  },
  {
   "cell_type": "markdown",
   "metadata": {},
   "source": [
    "### 4 e) "
   ]
  }
 ],
 "metadata": {
  "kernelspec": {
   "display_name": "Python 3",
   "language": "python",
   "name": "python3"
  },
  "language_info": {
   "codemirror_mode": {
    "name": "ipython",
    "version": 3
   },
   "file_extension": ".py",
   "mimetype": "text/x-python",
   "name": "python",
   "nbconvert_exporter": "python",
   "pygments_lexer": "ipython3",
   "version": "3.7.4"
  }
 },
 "nbformat": 4,
 "nbformat_minor": 4
}
