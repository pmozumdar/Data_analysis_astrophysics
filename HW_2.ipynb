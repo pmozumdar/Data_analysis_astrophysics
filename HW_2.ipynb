{
 "cells": [
  {
   "cell_type": "markdown",
   "metadata": {},
   "source": [
    "# PHY 266 HW 2"
   ]
  },
  {
   "cell_type": "code",
   "execution_count": 2,
   "metadata": {},
   "outputs": [],
   "source": [
    "import numpy as np\n",
    "import scipy.stats as sp\n",
    "import matplotlib.pyplot as plt"
   ]
  },
  {
   "cell_type": "markdown",
   "metadata": {},
   "source": [
    "## Prb 1. Random coordinates on a sphere\n",
    "\n",
    "### 1 a) As the object is randomly distributed that means the probabilty of detecting it any where in the sky is same. So we can expect an uniform distribution of $\\alpha$ ranging from 0-360 degree or U(0, 360).\n",
    "\n",
    "\n",
    "### 1 b) Similarly the distribution of $\\delta$ is also an uniform distribution and ranging from -90 to 90 or U(-90, 90).  Now the CDF of $\\delta$ is $F(\\delta)= \\int_{-\\infty}^{\\delta} f(\\delta')d\\delta'$. The PDF of $\\delta$ is $f(\\delta) = \\frac{1}{b-a} = \\frac{1}{180}$ when the PDF is uniform distribution of U(a,b). Then \n",
    "$$ \n",
    "\\begin{align}\n",
    "F(\\delta) &= \\int_{-\\infty}^{\\delta} \\frac{1}{180}d\\delta' \\\\ \n",
    "          &= \\frac{1}{180} \\int_{-90}^{\\delta} d\\delta' \\\\\n",
    "          &= \\frac{\\delta+90}{180}\n",
    "\\end{align}$$"
   ]
  },
  {
   "cell_type": "markdown",
   "metadata": {},
   "source": [
    "### 1 c) We have the equation for CDF of $\\delta$. Then we can draw samples from U(0,1) which will be treated as F($\\delta$) values and using the equation above we can find out the corresponding values of $\\delta$.\n",
    "\n",
    "### Similarly we can derive the CDF of $\\alpha$ and use the above mentioned procedure to convert samples drawn from U(0,1) to the values of $\\alpha$. The CDF of $\\alpha$ is                                                                       $$ \\begin{align}\n",
    "F(\\alpha) &= \\int_{-\\infty}^{\\alpha} \\frac{1}{360}d\\alpha' \\\\ \n",
    "&= \\frac{1}{360} \\int_{0}^{\\alpha} d\\alpha' \\\\     \n",
    "&= \\frac{\\alpha}{360} \n",
    "\\end{align}$$"
   ]
  },
  {
   "cell_type": "code",
   "execution_count": 37,
   "metadata": {},
   "outputs": [],
   "source": [
    "cdf_val = np.random.uniform(0, 1, size=10000)\n",
    "\n",
    "dec = 180.0 * cdf_val - 90.0\n",
    "ra = cdf_val * 360.0"
   ]
  },
  {
   "cell_type": "markdown",
   "metadata": {},
   "source": [
    "### 1 d) plot to check that the derived values for right ascension  and declination above are indeed uniformly distributed over their respective range."
   ]
  },
  {
   "cell_type": "code",
   "execution_count": 42,
   "metadata": {},
   "outputs": [
    {
     "data": {
      "text/plain": [
       "Text(0.5, 0, '$\\\\alpha$ values')"
      ]
     },
     "execution_count": 42,
     "metadata": {},
     "output_type": "execute_result"
    },
    {
     "data": {
      "image/png": "[encoded data removed]",
      "text/plain": [
       "<Figure size 432x288 with 1 Axes>"
      ]
     },
     "metadata": {
      "needs_background": "light"
     },
     "output_type": "display_data"
    },
    {
     "data": {
      "image/png": "[encoded data removed]",
      "text/plain": [
       "<Figure size 432x288 with 1 Axes>"
      ]
     },
     "metadata": {
      "needs_background": "light"
     },
     "output_type": "display_data"
    }
   ],
   "source": [
    "plt.hist(dec, bins=30)\n",
    "plt.xlabel(r'$\\delta$ values', fontdict={'fontsize':18})\n",
    "plt.xlim(-100,100)\n",
    "plt.figure()\n",
    "plt.hist(ra, bins=30)\n",
    "plt.xlabel(r'$\\alpha$ values', fontdict={'fontsize':18})"
   ]
  },
  {
   "cell_type": "markdown",
   "metadata": {},
   "source": [
    "## Prb 2. Expected values\n",
    "\n",
    "### 2 a)"
   ]
  },
  {
   "cell_type": "markdown",
   "metadata": {},
   "source": [
    "## 3. Combining random variables\n",
    "\n",
    "### 3a) As we are adding the random variables x and y to get the new variable u then the PDF of u would be $$ \\begin{align}\n",
    "f(u) &= \\int_{-\\infty}^{\\infty}f(x)f(u-x)dx \\\\\n",
    "     &=\\int_{-0.5}^{0.5}f(x)f(u-x)dx  \n",
    "\\end{align}$$\n",
    "###  As f(x) is not defined outside $-0.5\\leq x \\leq 0.5 $.  The PDF of  f(x) is just 1. Then\n",
    "$$ \\begin{align}\n",
    "f(u) &=\\int_{-0.5}^{0.5}f(u-x)dx\\\\\n",
    "\\end{align}$$\n",
    "### Let  $ t=u-x$. Then $dt = - dx$. Applying that we get \n",
    "$$ \\begin{align}\n",
    "f(u) &= -\\int_{u + 0.5}^{u - 0.5}f(t)dt\\\\\n",
    "\\end{align}$$\n",
    "### However as we replace the variable from x to t,  the limit where t is defined also changes. And there will be two separate region of interest where t is non zero. The PDF of f(t) is also one. And the region on the left side is \n",
    "$$ \\begin{align}\n",
    "f(u)_L &= -\\int_{u + 0.5}^{- 0.5}f(t)dt\\\\\n",
    "   & = -(-\\frac{1}{2} - (u + \\frac{1}{2})) \\\\\n",
    "   & = u + 1\n",
    "\\end{align}$$\n",
    "### Then on the right side\n",
    "$$ \\begin{align}\n",
    "f(u)_R &= -\\int_{0.5}^{u - 0.5}f(t)dt\\\\\n",
    "   & = -((u - \\frac{1}{2}) - \\frac{1}{2}) \\\\\n",
    "   & = 1 - u\n",
    "\\end{align}$$\n",
    "### So the PDF of u has a triangular shape ranging from -1 to 1. \n",
    "$$\n",
    "f(u) = \\left\\{\n",
    "    \\begin{array}\\\\\n",
    "        1 + u & \\mbox{if } \\ -1 \\leq u \\leq 0 \\\\\n",
    "        1- u & \\mbox{if } \\ 0 \\leq u \\leq 1 \\\\\n",
    "        0 & \\mbox{else.}\n",
    "    \\end{array}\n",
    "\\right.\n",
    "$$\n",
    "### The plot  for the PDF is below."
   ]
  },
  {
   "cell_type": "code",
   "execution_count": 8,
   "metadata": {},
   "outputs": [
    {
     "data": {
      "text/plain": [
       "Text(0, 0.5, 'f(u)')"
      ]
     },
     "execution_count": 8,
     "metadata": {},
     "output_type": "execute_result"
    },
    {
     "data": {
      "image/png": "[encoded data removed]",
      "text/plain": [
       "<Figure size 432x288 with 1 Axes>"
      ]
     },
     "metadata": {
      "needs_background": "light"
     },
     "output_type": "display_data"
    }
   ],
   "source": [
    "u = np.linspace(-1, 1, 1000)\n",
    "f_u = np.zeros(len(u))\n",
    "for i,p in enumerate(u):\n",
    "    if p >= 0 :\n",
    "        f_u[i] = 1 - p\n",
    "    else:\n",
    "        f_u[i] = 1 + p\n",
    "\n",
    "plt.plot(u, f_u)\n",
    "plt.xlabel('u', fontdict={'fontsize':18})\n",
    "plt.ylabel('f(u)', fontdict={'fontsize':18})"
   ]
  },
  {
   "cell_type": "markdown",
   "metadata": {},
   "source": [
    "### 3 b) We are going to 5000 samples x and y  distributions which are both uniform distribution. So the histograms for the random varibale x and y will have box shape over their repective range."
   ]
  },
  {
   "cell_type": "code",
   "execution_count": 24,
   "metadata": {},
   "outputs": [
    {
     "data": {
      "text/plain": [
       "Text(0.5, 1.0, 'histogram of y')"
      ]
     },
     "execution_count": 24,
     "metadata": {},
     "output_type": "execute_result"
    },
    {
     "data": {
      "image/png": "[encoded data removed]",
      "text/plain": [
       "<Figure size 432x288 with 1 Axes>"
      ]
     },
     "metadata": {
      "needs_background": "light"
     },
     "output_type": "display_data"
    },
    {
     "data": {
      "image/png": "[encoded data removed]",
      "text/plain": [
       "<Figure size 432x288 with 1 Axes>"
      ]
     },
     "metadata": {
      "needs_background": "light"
     },
     "output_type": "display_data"
    }
   ],
   "source": [
    "np.random.seed(12345)\n",
    "x = np.random.uniform(-0.5, 0.5, size=5000)\n",
    "y = np.random.uniform(-0.5, 0.5, size=5000)\n",
    "\n",
    "count = plt.hist(x)\n",
    "plt.title('histogram of x', fontdict={'fontsize':18})\n",
    "plt.figure()\n",
    "count = plt.hist(y)\n",
    "plt.title('histogram of y', fontdict={'fontsize':18})"
   ]
  },
  {
   "cell_type": "markdown",
   "metadata": {},
   "source": [
    "### 3 c) The histogram of u where u = x+y should look like the PDF we plotted in part a."
   ]
  },
  {
   "cell_type": "code",
   "execution_count": 25,
   "metadata": {},
   "outputs": [
    {
     "data": {
      "text/plain": [
       "Text(0.5, 1.0, 'Histogram of u')"
      ]
     },
     "execution_count": 25,
     "metadata": {},
     "output_type": "execute_result"
    },
    {
     "data": {
      "image/png": "[encoded data removed]",
      "text/plain": [
       "<Figure size 432x288 with 1 Axes>"
      ]
     },
     "metadata": {
      "needs_background": "light"
     },
     "output_type": "display_data"
    }
   ],
   "source": [
    "count = plt.hist(x+y, bins=30, density=True)\n",
    "plt.title('Histogram of u', fontdict={'fontsize':18})"
   ]
  },
  {
   "cell_type": "markdown",
   "metadata": {},
   "source": [
    "## Prb 4. Magnitudes: a common transformation\n",
    "\n",
    "### 4 a)  We can calculate the magnitude of the galaxy using the following equation \n",
    "$$ m_{g} = m_{\\ast} - 2.5\\log \\frac{f_g}{f_{\\ast}} $$\n",
    "### where $m_{g}$ is the magnitude of the galaxy, $m_{\\ast}$ is the magnitude of the star, $f_g$  and $f_{\\ast}$ are the pixel value of the galaxy and star respectively. As the flux is a linear measure of the pixel value then the ratio of the pixel values can be used as the ratio of the flux."
   ]
  },
  {
   "cell_type": "markdown",
   "metadata": {},
   "source": [
    "### 4 b) If we double the exposure time then the pixel values of both the galaxy and star would get doubled. As we are working with their ratio then we don't need to add any dependence on exposure time."
   ]
  },
  {
   "cell_type": "markdown",
   "metadata": {},
   "source": [
    "### 4 c) We can start with the fact that $\\frac{d\\log x}{dx} = \\frac{1}{x}$. Then \n",
    "$$\\begin{align} \n",
    "\\int d(\\log x) &= \\int \\frac{dx}{x} \\\\\n",
    "         \\log x &= \\int \\frac{dx}{x} \\\\\n",
    " \\end{align}$$ \n",
    "### Now $\\frac{dx}{x}$ is a dimensionless ratio. So we can say that logarithm of any quantity x can be expressed as the sum of some dimensionless ratios or numbers. Or logarithm of anything is dimensionless."
   ]
  },
  {
   "cell_type": "markdown",
   "metadata": {},
   "source": [
    "### 4 d) The uncertainty on magnitude of galaxy $\\sigma_{mg}$ is related to other variable in the following way $$\\begin{align}\n",
    "\\sigma_{m_g}^2 &= |\\frac{\\partial m_{g}}{\\partial f_g} |^2 \\sigma_{f_g}^2 \\\\\n",
    "         &= (-2.5\\frac{1}{f_g})^2 \\sigma_{f_g}^2 \\\\\n",
    " \\sigma_{m_g} &= \\pm 2.5 \\frac{\\sigma_{f_g}}{f_g}\n",
    "\\end{align}$$"
   ]
  },
  {
   "cell_type": "markdown",
   "metadata": {},
   "source": [
    "### 4 e) When we are calculating $\\sigma_{mg}$  we are actually multiplying the slope of the $m_g$ vs $f_g$ graph which is  $|\\frac{\\partial m_{g}}{\\partial f_g} |$ with the uncertainty of the $f_g$ which is $\\sigma_{f_g}$. As $m_g$ is a  logarithmic function of $f_g$ then the slope of the graph will very significantly from one side to the other. As a result same amount of uncertainty in $f_g$ will project totally different amount in uncertainty of $m_g$ depending on the slope. That means for very large flux values cenrtain amount of uncertainty will result in  small uncertainty in $m_g$. However for very small flux values that same amount of uncertainty in flux will result in pretty big uncertainty in $m_g$."
   ]
  },
  {
   "cell_type": "code",
   "execution_count": null,
   "metadata": {},
   "outputs": [],
   "source": []
  }
 ],
 "metadata": {
  "kernelspec": {
   "display_name": "Python 3",
   "language": "python",
   "name": "python3"
  },
  "language_info": {
   "codemirror_mode": {
    "name": "ipython",
    "version": 3
   },
   "file_extension": ".py",
   "mimetype": "text/x-python",
   "name": "python",
   "nbconvert_exporter": "python",
   "pygments_lexer": "ipython3",
   "version": "3.7.4"
  }
 },
 "nbformat": 4,
 "nbformat_minor": 4
}
